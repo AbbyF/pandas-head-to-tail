{
 "cells": [
  {
   "cell_type": "markdown",
   "metadata": {},
   "source": [
    "# Performance"
   ]
  },
  {
   "cell_type": "markdown",
   "metadata": {},
   "source": [
    "## Avoiding slow code\n",
    "\n",
    "With pandas, you'll get the most bang for your buck by *avoiding antipatterns*.\n",
    "There are additional options like using Numba or Cython if you *really* need to optimize a piece of code, but that's more work typically."
   ]
  },
  {
   "cell_type": "markdown",
   "metadata": {},
   "source": [
    "This notebook will walk through several common miskates, and show more performant ways of achieving the same thing."
   ]
  },
  {
   "cell_type": "code",
   "execution_count": 1,
   "metadata": {
    "collapsed": true
   },
   "outputs": [],
   "source": [
    "import numpy as np\n",
    "import pandas as pd\n",
    "import seaborn as sns\n",
    "import matplotlib.pyplot as plt\n",
    "\n",
    "pd.options.display.max_rows = 10\n",
    "plt.style.use('default')"
   ]
  },
  {
   "cell_type": "code",
   "execution_count": 2,
   "metadata": {
    "collapsed": true
   },
   "outputs": [],
   "source": [
    "%matplotlib inline"
   ]
  },
  {
   "cell_type": "markdown",
   "metadata": {},
   "source": [
    "## Mistake 1: Using pandas\n",
    "\n",
    "- At least not for things it's not meant for.\n",
    "- Pandas is very fast at joins, reindex, factorization\n",
    "- Not as great at, say, matrix multiplications or problems that aren't vectorizable"
   ]
  },
  {
   "cell_type": "markdown",
   "metadata": {},
   "source": [
    "## Mistake 2: Using object dtype\n",
    "\n",
    "Avoid it if possible"
   ]
  },
  {
   "cell_type": "markdown",
   "metadata": {},
   "source": [
    "Jake VanderPlas has a [great article](https://jakevdp.github.io/blog/2014/05/09/why-python-is-slow/) on why Python is slow for many of the things we care about as analysts / scientists.\n",
    "One reason is the overhead that comes from using python objects for integers, floats, etc. relative to the native versions.\n",
    "\n",
    "As a small demonstration, we'll take two series, one with python integers, and one with NumPy's `int64`."
   ]
  },
  {
   "cell_type": "code",
   "execution_count": 3,
   "metadata": {},
   "outputs": [],
   "source": [
    "# Two series of range(10000), different dtypes\n",
    "s1 = pd.Series(range(10000), dtype=object)\n",
    "s2 = pd.Series(range(10000), dtype=np.int64)"
   ]
  },
  {
   "cell_type": "code",
   "execution_count": 4,
   "metadata": {},
   "outputs": [
    {
     "name": "stdout",
     "output_type": "stream",
     "text": [
      "The slowest run took 6.75 times longer than the fastest. This could mean that an intermediate result is being cached.\n",
      "100 loops, best of 3: 894 µs per loop\n"
     ]
    }
   ],
   "source": [
    "%timeit s1.sum()"
   ]
  },
  {
   "cell_type": "code",
   "execution_count": 5,
   "metadata": {},
   "outputs": [
    {
     "name": "stdout",
     "output_type": "stream",
     "text": [
      "The slowest run took 6.72 times longer than the fastest. This could mean that an intermediate result is being cached.\n",
      "10000 loops, best of 3: 109 µs per loop\n"
     ]
    }
   ],
   "source": [
    "%timeit s2.sum()"
   ]
  },
  {
   "cell_type": "markdown",
   "metadata": {},
   "source": [
    "NumPy can process the specialized `int64` dtype array faster than the python object version, even though they're equal."
   ]
  },
  {
   "cell_type": "markdown",
   "metadata": {},
   "source": [
    "Typically you would never expecitly pass in `dtype=object` there, but occasionally object dtypes slip into pandas\n",
    "\n",
    "1. Strings\n",
    "\n",
    "    This is usually unavoidable. Pandas 2 will have a specialized string\n",
    "    type, but for now you're stuck with python objects. If you have few\n",
    "    *distinct* values (relative to the number of rows), you could use a\n",
    "    `Categorical`\n",
    "<br><br>\n",
    "2. Dates, Times\n",
    "\n",
    "    Pandas has implemented a specialized verion of `datetime.datime`,\n",
    "    and `datetime.timedelta`, but not `datetime.date` or `datetime.time`.\n",
    "    Depending on your application, you might be able to treat dates as `datetimes`s, at midnight.\n",
    "<br><br>\n",
    "3. Decimal types\n",
    "\n",
    "    Pandas uses floating-point arrays; there isn't a native arbitrary-precision Decimal type.\n",
    "<br><br>\n",
    "4. Reading messy Excel Files\n",
    "\n",
    "    `read_excel` will preserve the dtype of each cell in the spreadsheet. If you\n",
    "    have a single column with an int, a float, and a datetime, pandas will have to store all of those as `objects`. This dataset probably isn't tidy though.\n",
    "<br><br>\n",
    "\n",
    "5. Messy CSVs where pandas' usual inference fails\n",
    "<br><br>\n",
    "6. Integer NA\n",
    "\n",
    "    Unfortunately, pandas doesn't have real nullable types. To represent\n",
    "    missingness, pandas uses `NaN` (not a number) which is a special floating point value. If you *have* to represent nullable integers, you can use `object` dtype."
   ]
  },
  {
   "cell_type": "code",
   "execution_count": 6,
   "metadata": {},
   "outputs": [
    {
     "data": {
      "text/plain": [
       "0    1.0\n",
       "1    2.0\n",
       "2    3.0\n",
       "3    NaN\n",
       "4    5.0\n",
       "5    6.0\n",
       "6    7.0\n",
       "7    8.0\n",
       "8    9.0\n",
       "dtype: float64"
      ]
     },
     "execution_count": 6,
     "metadata": {},
     "output_type": "execute_result"
    }
   ],
   "source": [
    "s = pd.Series([1, 2, 3, np.nan, 5, 6, 7, 8, 9])\n",
    "s"
   ]
  },
  {
   "cell_type": "code",
   "execution_count": 7,
   "metadata": {},
   "outputs": [
    {
     "data": {
      "text/plain": [
       "numpy.float64"
      ]
     },
     "execution_count": 7,
     "metadata": {},
     "output_type": "execute_result"
    }
   ],
   "source": [
    "type(s[0])"
   ]
  },
  {
   "cell_type": "code",
   "execution_count": 8,
   "metadata": {},
   "outputs": [
    {
     "data": {
      "text/plain": [
       "int"
      ]
     },
     "execution_count": 8,
     "metadata": {},
     "output_type": "execute_result"
    }
   ],
   "source": [
    "s = pd.Series([1, 2, 3, np.nan, 5, 6, 7, 8, 9], dtype=object)\n",
    "type(s[0])"
   ]
  },
  {
   "cell_type": "markdown",
   "metadata": {},
   "source": [
    "## Aside: Managing Dtypes\n",
    "\n",
    "Pandas provides some tools for converting arrays to their specialized dtype.\n",
    "\n",
    "0. IO operations (`read_csv` infers, but can use the `dtype` keyword)\n",
    "1. Object -> numeric: `pd.to_numeric`\n",
    "2. Object -> datetime: `pd.to_datetime`\n",
    "3. Object -> timedelta: `pd.to_timedelta`\n",
    "4. Object -> category: `pd.Categorical`\n",
    "5. `.astype(dtype)`"
   ]
  },
  {
   "cell_type": "markdown",
   "metadata": {},
   "source": [
    "They're pretty flexible what they accept."
   ]
  },
  {
   "cell_type": "code",
   "execution_count": 9,
   "metadata": {},
   "outputs": [
    {
     "data": {
      "text/plain": [
       "array([  1.,   2.,   3.,  nan])"
      ]
     },
     "execution_count": 9,
     "metadata": {},
     "output_type": "execute_result"
    }
   ],
   "source": [
    "numbers = ['1', '2', '3.', 'nan']\n",
    "pd.to_numeric(numbers, errors='coerce')"
   ]
  },
  {
   "cell_type": "code",
   "execution_count": 10,
   "metadata": {},
   "outputs": [
    {
     "data": {
      "text/plain": [
       "DatetimeIndex(['2016-01-01', '2016-02-01', '2016-03-01'], dtype='datetime64[ns]', freq=None)"
      ]
     },
     "execution_count": 10,
     "metadata": {},
     "output_type": "execute_result"
    }
   ],
   "source": [
    "dates = ['2016/01/01', '2016/02/01', '2016/03/01']\n",
    "pd.to_datetime(dates)"
   ]
  },
  {
   "cell_type": "code",
   "execution_count": 11,
   "metadata": {},
   "outputs": [
    {
     "data": {
      "text/plain": [
       "TimedeltaIndex(['01:00:00', '00:00:30', NaT], dtype='timedelta64[ns]', freq=None)"
      ]
     },
     "execution_count": 11,
     "metadata": {},
     "output_type": "execute_result"
    }
   ],
   "source": [
    "# to_timedelta\n",
    "x = pd.to_timedelta(['1H', '30s', '20blah'], errors='coerce')\n",
    "x"
   ]
  },
  {
   "cell_type": "code",
   "execution_count": 12,
   "metadata": {},
   "outputs": [
    {
     "data": {
      "text/plain": [
       "TimedeltaIndex(['00:10:00', '00:20:00', '00:30:00'], dtype='timedelta64[ns]', freq=None)"
      ]
     },
     "execution_count": 12,
     "metadata": {},
     "output_type": "execute_result"
    }
   ],
   "source": [
    "pd.to_timedelta([10, 20, 30], unit=\"T\")  # T = minutes"
   ]
  },
  {
   "cell_type": "code",
   "execution_count": 13,
   "metadata": {},
   "outputs": [
    {
     "data": {
      "text/plain": [
       "[a, a, c, b]\n",
       "Categories (3, object): [a < b < c]"
      ]
     },
     "execution_count": 13,
     "metadata": {},
     "output_type": "execute_result"
    }
   ],
   "source": [
    "pd.Categorical(['a', 'a', 'c', 'b'], categories=['a', 'b', 'c'],\n",
    "               ordered=True)"
   ]
  },
  {
   "cell_type": "markdown",
   "metadata": {},
   "source": [
    "## Aside: Categoricals\n",
    "\n",
    "Pandas has a custom datatype, `Categorical`, for representing data that can come from a specified, generally fixed set of values.\n",
    "\n",
    "- `categories`: set of valid values\n",
    "- `ordered`: whether that set of values has an ordering"
   ]
  },
  {
   "cell_type": "code",
   "execution_count": 14,
   "metadata": {},
   "outputs": [
    {
     "data": {
      "text/plain": [
       "[a, b, c, a]\n",
       "Categories (4, object): [a, b, c, d]"
      ]
     },
     "execution_count": 14,
     "metadata": {},
     "output_type": "execute_result"
    }
   ],
   "source": [
    "c = pd.Categorical(['a', 'b', 'c', 'a'], categories=['a', 'b', 'c', 'd'])\n",
    "c"
   ]
  },
  {
   "cell_type": "markdown",
   "metadata": {},
   "source": [
    "Trying to insert a value that is outside the set of categories will cause an exception."
   ]
  },
  {
   "cell_type": "code",
   "execution_count": 15,
   "metadata": {},
   "outputs": [
    {
     "ename": "ValueError",
     "evalue": "Cannot setitem on a Categorical with a new category, set the categories first",
     "output_type": "error",
     "traceback": [
      "\u001b[0;31m---------------------------------------------------------------------------\u001b[0m",
      "\u001b[0;31mValueError\u001b[0m                                Traceback (most recent call last)",
      "\u001b[0;32m<ipython-input-15-a6fa1f72c843>\u001b[0m in \u001b[0;36m<module>\u001b[0;34m()\u001b[0m\n\u001b[0;32m----> 1\u001b[0;31m \u001b[0mc\u001b[0m\u001b[0;34m[\u001b[0m\u001b[0;36m0\u001b[0m\u001b[0;34m]\u001b[0m \u001b[0;34m=\u001b[0m \u001b[0;34m'f'\u001b[0m\u001b[0;34m\u001b[0m\u001b[0m\n\u001b[0m",
      "\u001b[0;32m/Users/tom.augspurger/miniconda3/envs/ph2t/lib/python3.6/site-packages/pandas/core/categorical.py\u001b[0m in \u001b[0;36m__setitem__\u001b[0;34m(self, key, value)\u001b[0m\n\u001b[1;32m   1652\u001b[0m         \u001b[0;31m# something to np.nan\u001b[0m\u001b[0;34m\u001b[0m\u001b[0;34m\u001b[0m\u001b[0m\n\u001b[1;32m   1653\u001b[0m         \u001b[0;32mif\u001b[0m \u001b[0mlen\u001b[0m\u001b[0;34m(\u001b[0m\u001b[0mto_add\u001b[0m\u001b[0;34m)\u001b[0m \u001b[0;32mand\u001b[0m \u001b[0;32mnot\u001b[0m \u001b[0misnull\u001b[0m\u001b[0;34m(\u001b[0m\u001b[0mto_add\u001b[0m\u001b[0;34m)\u001b[0m\u001b[0;34m.\u001b[0m\u001b[0mall\u001b[0m\u001b[0;34m(\u001b[0m\u001b[0;34m)\u001b[0m\u001b[0;34m:\u001b[0m\u001b[0;34m\u001b[0m\u001b[0m\n\u001b[0;32m-> 1654\u001b[0;31m             raise ValueError(\"Cannot setitem on a Categorical with a new \"\n\u001b[0m\u001b[1;32m   1655\u001b[0m                              \"category, set the categories first\")\n\u001b[1;32m   1656\u001b[0m \u001b[0;34m\u001b[0m\u001b[0m\n",
      "\u001b[0;31mValueError\u001b[0m: Cannot setitem on a Categorical with a new category, set the categories first"
     ]
    }
   ],
   "source": [
    "c[0] = 'f'"
   ]
  },
  {
   "cell_type": "markdown",
   "metadata": {},
   "source": [
    "## Categoricals: Space Efficient\n",
    "\n",
    "Internally, this is a dictionary encoding. The set of categories are stored *once*. The values `['a', 'b', 'c', 'a']` are stored as an array of integers, called `codes`."
   ]
  },
  {
   "cell_type": "code",
   "execution_count": null,
   "metadata": {},
   "outputs": [],
   "source": [
    "c.categories"
   ]
  },
  {
   "cell_type": "code",
   "execution_count": null,
   "metadata": {},
   "outputs": [],
   "source": [
    "c.codes"
   ]
  },
  {
   "cell_type": "markdown",
   "metadata": {},
   "source": [
    "Since an integer generally takes less memory to store than a string, these are an efficient way of representing data that has many repetitions. Categoricals can be stored in a DataFrame, Series, or index"
   ]
  },
  {
   "cell_type": "code",
   "execution_count": 26,
   "metadata": {},
   "outputs": [
    {
     "data": {
      "text/plain": [
       "0    a\n",
       "1    b\n",
       "2    c\n",
       "3    a\n",
       "dtype: category\n",
       "Categories (4, object): [a, b, c, d]"
      ]
     },
     "execution_count": 26,
     "metadata": {},
     "output_type": "execute_result"
    }
   ],
   "source": [
    "pd.Series(c)"
   ]
  },
  {
   "cell_type": "markdown",
   "metadata": {},
   "source": [
    "Pandas can take shortcuts when you use the proper dtypes.\n",
    "For example, the algorithms for `value_counts` and `groupby` are simplier, and thus faster, for Categoricals than for strings (object).\n",
    "We can time that:"
   ]
  },
  {
   "cell_type": "code",
   "execution_count": 27,
   "metadata": {},
   "outputs": [
    {
     "name": "stdout",
     "output_type": "stream",
     "text": [
      "<class 'pandas.core.frame.DataFrame'>\n",
      "RangeIndex: 10000 entries, 0 to 9999\n",
      "Data columns (total 3 columns):\n",
      "A    10000 non-null float64\n",
      "B    10000 non-null object\n",
      "C    10000 non-null category\n",
      "dtypes: category(1), float64(1), object(1)\n",
      "memory usage: 166.1+ KB\n"
     ]
    }
   ],
   "source": [
    "N = 10000\n",
    "df = pd.DataFrame({\"A\": np.random.randn(N),\n",
    "                   \"B\": np.random.choice(list('abcdefg'), N)})\n",
    "df['C'] = df[\"B\"].astype(\"category\")\n",
    "df.info()"
   ]
  },
  {
   "cell_type": "code",
   "execution_count": 28,
   "metadata": {},
   "outputs": [
    {
     "name": "stdout",
     "output_type": "stream",
     "text": [
      "1000 loops, best of 3: 1.09 ms per loop\n"
     ]
    }
   ],
   "source": [
    "# object dtype\n",
    "%timeit df.B.value_counts()"
   ]
  },
  {
   "cell_type": "code",
   "execution_count": 29,
   "metadata": {},
   "outputs": [
    {
     "name": "stdout",
     "output_type": "stream",
     "text": [
      "1000 loops, best of 3: 777 µs per loop\n"
     ]
    }
   ],
   "source": [
    "# categorical dtype\n",
    "%timeit df.C.value_counts()"
   ]
  },
  {
   "cell_type": "code",
   "execution_count": 30,
   "metadata": {},
   "outputs": [
    {
     "name": "stdout",
     "output_type": "stream",
     "text": [
      "1000 loops, best of 3: 936 µs per loop\n"
     ]
    }
   ],
   "source": [
    "# object dtype\n",
    "%timeit df.groupby(\"B\").A.mean()"
   ]
  },
  {
   "cell_type": "code",
   "execution_count": 31,
   "metadata": {},
   "outputs": [
    {
     "name": "stdout",
     "output_type": "stream",
     "text": [
      "1000 loops, best of 3: 618 µs per loop\n"
     ]
    }
   ],
   "source": [
    "# categorical dtype\n",
    "%timeit df.groupby(\"C\").A.mean()"
   ]
  },
  {
   "cell_type": "markdown",
   "metadata": {},
   "source": [
    "## Mistake 3: Initialization\n",
    "\n",
    "When your collecting many different sources (say a bunch of separate CSVs) into\n",
    "a single DataFrame, you have two paths to the same goal:\n",
    "\n",
    "1. Make a single empty DataFrame, append to that\n",
    "2. Make a list of many DataFrames, concat at end\n",
    "\n",
    "Typically, in python we'd choose the first one if we were, for example, collecting things into a `list`. `list.append` is very fast. However `DataFrame.append` is *not* fast."
   ]
  },
  {
   "cell_type": "code",
   "execution_count": 32,
   "metadata": {
    "collapsed": true
   },
   "outputs": [],
   "source": [
    "import time\n",
    "\n",
    "size_per = 1000\n",
    "N = 100\n",
    "cols = list('abcd')\n",
    "\n",
    "def timed(n=30):\n",
    "    '''\n",
    "    Just benchmarking\n",
    "    '''\n",
    "    def deco(func):\n",
    "        def wrapper(*args, **kwargs):\n",
    "            timings = []\n",
    "            for i in range(n):\n",
    "                t0 = time.time()\n",
    "                func(*args, **kwargs)\n",
    "                t1 = time.time()\n",
    "                timings.append(t1 - t0)\n",
    "            return timings\n",
    "        return wrapper\n",
    "    return deco\n",
    "\n",
    "@timed(60)\n",
    "def append_df():\n",
    "    '''\n",
    "    The pythonic (slow) way\n",
    "    '''\n",
    "    df = pd.DataFrame(columns=cols)\n",
    "    for _ in range(N):\n",
    "        df = df.append(pd.DataFrame(np.random.randn(size_per, 4),\n",
    "                                    columns=cols),\n",
    "                       ignore_index=True)\n",
    "    return df\n",
    "\n",
    "@timed(60)\n",
    "def concat_df():\n",
    "    '''\n",
    "    The pandorabe (fast) way\n",
    "    '''\n",
    "    dfs = [pd.DataFrame(np.random.randn(size_per, 4), columns=cols)\n",
    "           for _ in range(N)]\n",
    "    return pd.concat(dfs, ignore_index=True)"
   ]
  },
  {
   "cell_type": "code",
   "execution_count": 33,
   "metadata": {},
   "outputs": [
    {
     "data": {
      "text/html": [
       "<div>\n",
       "<table border=\"1\" class=\"dataframe\">\n",
       "  <thead>\n",
       "    <tr style=\"text-align: right;\">\n",
       "      <th></th>\n",
       "      <th>level_0</th>\n",
       "      <th>Method</th>\n",
       "      <th>Time (s)</th>\n",
       "    </tr>\n",
       "  </thead>\n",
       "  <tbody>\n",
       "    <tr>\n",
       "      <th>0</th>\n",
       "      <td>0</td>\n",
       "      <td>Append</td>\n",
       "      <td>0.317671</td>\n",
       "    </tr>\n",
       "    <tr>\n",
       "      <th>1</th>\n",
       "      <td>0</td>\n",
       "      <td>Concat</td>\n",
       "      <td>0.045183</td>\n",
       "    </tr>\n",
       "    <tr>\n",
       "      <th>2</th>\n",
       "      <td>1</td>\n",
       "      <td>Append</td>\n",
       "      <td>0.282379</td>\n",
       "    </tr>\n",
       "    <tr>\n",
       "      <th>3</th>\n",
       "      <td>1</td>\n",
       "      <td>Concat</td>\n",
       "      <td>0.041363</td>\n",
       "    </tr>\n",
       "    <tr>\n",
       "      <th>4</th>\n",
       "      <td>2</td>\n",
       "      <td>Append</td>\n",
       "      <td>0.268410</td>\n",
       "    </tr>\n",
       "  </tbody>\n",
       "</table>\n",
       "</div>"
      ],
      "text/plain": [
       "   level_0  Method  Time (s)\n",
       "0        0  Append  0.317671\n",
       "1        0  Concat  0.045183\n",
       "2        1  Append  0.282379\n",
       "3        1  Concat  0.041363\n",
       "4        2  Append  0.268410"
      ]
     },
     "execution_count": 33,
     "metadata": {},
     "output_type": "execute_result"
    }
   ],
   "source": [
    "t_append = append_df()\n",
    "t_concat = concat_df()\n",
    "\n",
    "timings = (pd.DataFrame({\"Append\": t_append, \"Concat\": t_concat})\n",
    "             .stack()\n",
    "             .reset_index()\n",
    "             .rename(columns={0: 'Time (s)',\n",
    "                              'level_1': 'Method'}))\n",
    "timings.head()\n"
   ]
  },
  {
   "cell_type": "code",
   "execution_count": 34,
   "metadata": {},
   "outputs": [
    {
     "data": {
      "image/png": "[encoded data removed]",
      "text/plain": [
       "<matplotlib.figure.Figure at 0x112cc2160>"
      ]
     },
     "metadata": {},
     "output_type": "display_data"
    }
   ],
   "source": [
    "plt.figure(figsize=(6, 10))\n",
    "sns.boxplot(x='Method', y='Time (s)', data=timings)\n",
    "sns.despine()\n",
    "plt.show()"
   ]
  },
  {
   "cell_type": "markdown",
   "metadata": {},
   "source": [
    "## Mistake 4: Doing too much work\n",
    "\n",
    "This is more general purpose advice, rather than something you can just grep your code for.\n",
    "But look for places where you're doing a bunch of work, and then throwing some of it away."
   ]
  },
  {
   "cell_type": "code",
   "execution_count": 5,
   "metadata": {},
   "outputs": [
    {
     "data": {
      "text/plain": [
       "0    14.0\n",
       "1    -3.0\n",
       "2     2.0\n",
       "3    -8.0\n",
       "4     2.0\n",
       "Name: dep_delay, dtype: float64"
      ]
     },
     "execution_count": 5,
     "metadata": {},
     "output_type": "execute_result"
    }
   ],
   "source": [
    "# read in dep_delay column from flights\n",
    "df = pd.read_csv(\"data/ny-flights.csv.gz\", usecols=['dep_delay'])\n",
    "delays = df['dep_delay']\n",
    "delays.head()"
   ]
  },
  {
   "cell_type": "markdown",
   "metadata": {},
   "source": [
    "That `read_csv` call unintentionally demonstrates my point. We're only going to use `dep_delay` for this example, so we pass the `usecols` parameter. This means we don't have to do any parsing or type inference on the rest of the columns, since we aren't going to use them.\n",
    "\n",
    "For the real example though, suppose we wanted to find the 5 longest delays. One option is to sort the entire Series and then take the head"
   ]
  },
  {
   "cell_type": "code",
   "execution_count": 6,
   "metadata": {},
   "outputs": [
    {
     "name": "stdout",
     "output_type": "stream",
     "text": [
      "1000 loops, best of 3: 1.86 ms per loop\n"
     ]
    }
   ],
   "source": [
    "%timeit delays.sort_values(ascending=False).head(5)"
   ]
  },
  {
   "cell_type": "markdown",
   "metadata": {},
   "source": [
    "A better option is to use the `nlargest` method on `Series`, and then sort just those 5 elements."
   ]
  },
  {
   "cell_type": "code",
   "execution_count": 7,
   "metadata": {},
   "outputs": [
    {
     "name": "stdout",
     "output_type": "stream",
     "text": [
      "1000 loops, best of 3: 1.53 ms per loop\n"
     ]
    }
   ],
   "source": [
    "%timeit delays.nlargest(5).sort_values(ascending=False)"
   ]
  },
  {
   "cell_type": "markdown",
   "metadata": {},
   "source": [
    "In can be hard to remember all the methods or algorithms available to you though.\n",
    "I think this one just comes down to experience.\n",
    "\n",
    "For another example, let's suppose we wanted to find the nearest neighbor for a bunch of points.\n",
    "A naïve implementation would find the ~$N^2$ pairwise distances, and then go through finding the nearest neighbor for each.\n",
    "This becomes untenable for large $N$.\n",
    "Fortunately, we can be more efficient using [KDTrees](http://scikit-learn.org/stable/modules/generated/sklearn.neighbors.KDTree.html) instead of finding all pairwise distances.\n",
    "For very large $N$, various [probabilistic algorithms](https://github.com/ekzhu/datasketch) are available, but we won't talk about those today."
   ]
  },
  {
   "cell_type": "markdown",
   "metadata": {},
   "source": [
    "<div class=\"alert alert-success\" data-title=\"Nearest Neighbor\">\n",
    "  <h1><i class=\"fa fa-tasks\" aria-hidden=\"true\"></i> Exercise</h1>\n",
    "</div>\n",
    "\n",
    "<p>Find the nearest neighbor for all the airports with at least 500 departures.</p>\n",
    "\n",
    "The naïve way to do this is to compute a pairwise distance matrix of all 500 airports, and then lookup the closest neighbor for each airport.\n",
    "\n",
    "Let's avoid that unnescessary computation by using a `KDTree`."
   ]
  },
  {
   "cell_type": "code",
   "execution_count": null,
   "metadata": {},
   "outputs": [],
   "source": [
    "# Step 1: read in `data/flights_coord.csv`. Call the DataFrame coord\n",
    "coord = ..."
   ]
  },
  {
   "cell_type": "code",
   "execution_count": 39,
   "metadata": {},
   "outputs": [
    {
     "data": {
      "text/html": [
       "<div>\n",
       "<table border=\"1\" class=\"dataframe\">\n",
       "  <thead>\n",
       "    <tr style=\"text-align: right;\">\n",
       "      <th></th>\n",
       "      <th>AIRPORT_ID</th>\n",
       "      <th>AIRPORT</th>\n",
       "      <th>DISPLAY_AIRPORT_CITY_NAME_FULL</th>\n",
       "      <th>AIRPORT_STATE_CODE</th>\n",
       "      <th>LATITUDE</th>\n",
       "      <th>LONGITUDE</th>\n",
       "    </tr>\n",
       "  </thead>\n",
       "  <tbody>\n",
       "    <tr>\n",
       "      <th>0</th>\n",
       "      <td>10001</td>\n",
       "      <td>01A</td>\n",
       "      <td>Afognak Lake, AK</td>\n",
       "      <td>AK</td>\n",
       "      <td>58.109444</td>\n",
       "      <td>-152.906667</td>\n",
       "    </tr>\n",
       "    <tr>\n",
       "      <th>1</th>\n",
       "      <td>10003</td>\n",
       "      <td>03A</td>\n",
       "      <td>Granite Mountain, AK</td>\n",
       "      <td>AK</td>\n",
       "      <td>65.548056</td>\n",
       "      <td>-161.071667</td>\n",
       "    </tr>\n",
       "    <tr>\n",
       "      <th>2</th>\n",
       "      <td>10004</td>\n",
       "      <td>04A</td>\n",
       "      <td>Lik, AK</td>\n",
       "      <td>AK</td>\n",
       "      <td>68.083333</td>\n",
       "      <td>-163.166667</td>\n",
       "    </tr>\n",
       "    <tr>\n",
       "      <th>3</th>\n",
       "      <td>10005</td>\n",
       "      <td>05A</td>\n",
       "      <td>Little Squaw, AK</td>\n",
       "      <td>AK</td>\n",
       "      <td>67.570000</td>\n",
       "      <td>-148.183889</td>\n",
       "    </tr>\n",
       "    <tr>\n",
       "      <th>4</th>\n",
       "      <td>10006</td>\n",
       "      <td>06A</td>\n",
       "      <td>Kizhuyak, AK</td>\n",
       "      <td>AK</td>\n",
       "      <td>57.745278</td>\n",
       "      <td>-152.882778</td>\n",
       "    </tr>\n",
       "  </tbody>\n",
       "</table>\n",
       "</div>"
      ],
      "text/plain": [
       "   AIRPORT_ID AIRPORT DISPLAY_AIRPORT_CITY_NAME_FULL AIRPORT_STATE_CODE  \\\n",
       "0       10001     01A               Afognak Lake, AK                 AK   \n",
       "1       10003     03A           Granite Mountain, AK                 AK   \n",
       "2       10004     04A                        Lik, AK                 AK   \n",
       "3       10005     05A               Little Squaw, AK                 AK   \n",
       "4       10006     06A                   Kizhuyak, AK                 AK   \n",
       "\n",
       "    LATITUDE   LONGITUDE  \n",
       "0  58.109444 -152.906667  \n",
       "1  65.548056 -161.071667  \n",
       "2  68.083333 -163.166667  \n",
       "3  67.570000 -148.183889  \n",
       "4  57.745278 -152.882778  "
      ]
     },
     "execution_count": 39,
     "metadata": {},
     "output_type": "execute_result"
    }
   ],
   "source": [
    "%load solutions/performance_kd.py"
   ]
  },
  {
   "cell_type": "markdown",
   "metadata": {},
   "source": [
    "I don't know why, but apparently `AIRPORT_ID` isn't unique:"
   ]
  },
  {
   "cell_type": "code",
   "execution_count": 40,
   "metadata": {},
   "outputs": [
    {
     "data": {
      "text/plain": [
       "False"
      ]
     },
     "execution_count": 40,
     "metadata": {},
     "output_type": "execute_result"
    }
   ],
   "source": [
    "coord.AIRPORT.is_unique"
   ]
  },
  {
   "cell_type": "markdown",
   "metadata": {},
   "source": [
    "You can use `.groupby().first()` to arbitrarily select the first one per airport:"
   ]
  },
  {
   "cell_type": "code",
   "execution_count": 41,
   "metadata": {},
   "outputs": [
    {
     "data": {
      "text/html": [
       "<div>\n",
       "<table border=\"1\" class=\"dataframe\">\n",
       "  <thead>\n",
       "    <tr style=\"text-align: right;\">\n",
       "      <th></th>\n",
       "      <th>LONGITUDE</th>\n",
       "      <th>LATITUDE</th>\n",
       "    </tr>\n",
       "    <tr>\n",
       "      <th>AIRPORT</th>\n",
       "      <th></th>\n",
       "      <th></th>\n",
       "    </tr>\n",
       "  </thead>\n",
       "  <tbody>\n",
       "    <tr>\n",
       "      <th>01A</th>\n",
       "      <td>-152.906667</td>\n",
       "      <td>58.109444</td>\n",
       "    </tr>\n",
       "    <tr>\n",
       "      <th>03A</th>\n",
       "      <td>-161.071667</td>\n",
       "      <td>65.548056</td>\n",
       "    </tr>\n",
       "    <tr>\n",
       "      <th>04A</th>\n",
       "      <td>-163.166667</td>\n",
       "      <td>68.083333</td>\n",
       "    </tr>\n",
       "    <tr>\n",
       "      <th>05A</th>\n",
       "      <td>-148.183889</td>\n",
       "      <td>67.570000</td>\n",
       "    </tr>\n",
       "    <tr>\n",
       "      <th>06A</th>\n",
       "      <td>-152.882778</td>\n",
       "      <td>57.745278</td>\n",
       "    </tr>\n",
       "  </tbody>\n",
       "</table>\n",
       "</div>"
      ],
      "text/plain": [
       "          LONGITUDE   LATITUDE\n",
       "AIRPORT                       \n",
       "01A     -152.906667  58.109444\n",
       "03A     -161.071667  65.548056\n",
       "04A     -163.166667  68.083333\n",
       "05A     -148.183889  67.570000\n",
       "06A     -152.882778  57.745278"
      ]
     },
     "execution_count": 41,
     "metadata": {},
     "output_type": "execute_result"
    }
   ],
   "source": [
    "locs = coord.groupby('AIRPORT')[['LONGITUDE', 'LATITUDE']].first()\n",
    "locs.head()"
   ]
  },
  {
   "cell_type": "markdown",
   "metadata": {},
   "source": [
    "We'll also make a mapping between the airport IDs and names for later."
   ]
  },
  {
   "cell_type": "code",
   "execution_count": 42,
   "metadata": {},
   "outputs": [
    {
     "data": {
      "text/plain": [
       "AIRPORT_ID\n",
       "10001    01A\n",
       "10003    03A\n",
       "10004    04A\n",
       "10005    05A\n",
       "10006    06A\n",
       "Name: AIRPORT, dtype: object"
      ]
     },
     "execution_count": 42,
     "metadata": {},
     "output_type": "execute_result"
    }
   ],
   "source": [
    "names = coord.groupby('AIRPORT_ID').AIRPORT.first().dropna()\n",
    "names.head()"
   ]
  },
  {
   "cell_type": "markdown",
   "metadata": {},
   "source": [
    "Step 3: Use [`sklearn.neighbors.KDTree`](http://scikit-learn.org/stable/modules/generated/sklearn.neighbors.KDTree.html) to find the nearest neighbors.\n",
    "It's OK if you haven't used scikit-learn before; I've provided stubs of a solution below.\n",
    "I'd recommend making additional cell to check the intermediate values as you solve each step.\n",
    "\n",
    "And if you get stuck, the solution is provided afterwards.\n",
    "Feel free to read through it and the KDTree docs."
   ]
  },
  {
   "cell_type": "code",
   "execution_count": null,
   "metadata": {},
   "outputs": [],
   "source": [
    "from sklearn.neighbors import KDTree\n",
    "\n",
    "tree = KDTree(...)  # see the docs (linked above) for KDTree\n",
    "\n",
    "# Now use `tree.query` to find the distances and\n",
    "# nearest neighbor. Make sure to pass a NumPy array to `.query`\n",
    "# and not a DataFrame; otherwise scikit-learn gets confused.\n",
    "# `locs.values` returns a NumPy array.\n",
    "\n",
    "# How many neighbors (k=...) do we need? Keep in mind that\n",
    "# we're searching on the same data as we built the tree on,\n",
    "# so what's the \"closest\" point for each observation?\n",
    "distances, indexes = tree.query(locs.values, k=...)\n",
    "\n",
    "# slice the NumPy arrays to just what we need\n",
    "# The array is shaped [n_observations, k] where `k` is\n",
    "# what you passed to query. Column 0 is the closest,\n",
    "# Column 1 is the second closest, etc...\n",
    "\n",
    "indexes = indexes[:, 1]\n",
    "distances = distances[:, 1]\n",
    "\n",
    "# the result of KDTree.query is a list of index\n",
    "# *positions*, we'll use id_map to go from \n",
    "# positions back to airport names\n",
    "id_map = dict(enumerate(locs.index))\n",
    "\n",
    "neighbors = pd.Series(indexes, index=locs.index).map(id_map)\n",
    "neighbors.head()"
   ]
  },
  {
   "cell_type": "code",
   "execution_count": 48,
   "metadata": {},
   "outputs": [
    {
     "data": {
      "text/plain": [
       "AIRPORT\n",
       "01A    A75\n",
       "03A    GMT\n",
       "04A    UXA\n",
       "05A    AK4\n",
       "06A    ORI\n",
       "dtype: object"
      ]
     },
     "execution_count": 48,
     "metadata": {},
     "output_type": "execute_result"
    }
   ],
   "source": [
    "%load solutions/performance_02.py\n"
   ]
  },
  {
   "cell_type": "markdown",
   "metadata": {},
   "source": [
    "## Mistake 5: Using `.apply` (with axis=1) (Avoid Iteration)\n",
    "\n",
    "I see this one a lot. I don't like absolutes, but you should never use `.apply(..., axis=1)` (probably).\n",
    "The root problem is using for loops instead of a vectorized solution.\n",
    "That is, something like:"
   ]
  },
  {
   "cell_type": "code",
   "execution_count": 12,
   "metadata": {},
   "outputs": [
    {
     "data": {
      "text/plain": [
       "[0, 2, 4, 6, 8, 10, 12, 14, 16, 18]"
      ]
     },
     "execution_count": 12,
     "metadata": {},
     "output_type": "execute_result"
    }
   ],
   "source": [
    "a = range(10)\n",
    "b = range(10)\n",
    "c = [a_ + b_ for a_, b_ in zip(a, b)]\n",
    "c"
   ]
  },
  {
   "cell_type": "markdown",
   "metadata": {},
   "source": [
    "Instead of the vectorized version:"
   ]
  },
  {
   "cell_type": "code",
   "execution_count": 13,
   "metadata": {},
   "outputs": [
    {
     "data": {
      "text/plain": [
       "array([ 0,  2,  4,  6,  8, 10, 12, 14, 16, 18])"
      ]
     },
     "execution_count": 13,
     "metadata": {},
     "output_type": "execute_result"
    }
   ],
   "source": [
    "a = np.arange(10)\n",
    "b = np.arange(10)\n",
    "c = a + b\n",
    "c"
   ]
  },
  {
   "cell_type": "markdown",
   "metadata": {},
   "source": [
    "http://www.labri.fr/perso/nrougier/from-python-to-numpy/ is a great resource for learning about vectorized methods."
   ]
  },
  {
   "cell_type": "markdown",
   "metadata": {},
   "source": [
    "As a demonstration, let's dip into survival analysis.\n",
    "This is (roughly) the study of how much longer something will last (survive) given their current history.\n",
    "For example, how much longer will someone continue to be a customer, given their past purchases?"
   ]
  },
  {
   "cell_type": "code",
   "execution_count": 14,
   "metadata": {},
   "outputs": [
    {
     "data": {
      "text/html": [
       "<div>\n",
       "<table border=\"1\" class=\"dataframe\">\n",
       "  <thead>\n",
       "    <tr style=\"text-align: right;\">\n",
       "      <th></th>\n",
       "      <th>frequency</th>\n",
       "      <th>recency</th>\n",
       "      <th>T</th>\n",
       "    </tr>\n",
       "    <tr>\n",
       "      <th>ID</th>\n",
       "      <th></th>\n",
       "      <th></th>\n",
       "      <th></th>\n",
       "    </tr>\n",
       "  </thead>\n",
       "  <tbody>\n",
       "    <tr>\n",
       "      <th>1</th>\n",
       "      <td>2</td>\n",
       "      <td>30.43</td>\n",
       "      <td>38.86</td>\n",
       "    </tr>\n",
       "    <tr>\n",
       "      <th>2</th>\n",
       "      <td>1</td>\n",
       "      <td>1.71</td>\n",
       "      <td>38.86</td>\n",
       "    </tr>\n",
       "    <tr>\n",
       "      <th>3</th>\n",
       "      <td>0</td>\n",
       "      <td>0.00</td>\n",
       "      <td>38.86</td>\n",
       "    </tr>\n",
       "    <tr>\n",
       "      <th>4</th>\n",
       "      <td>0</td>\n",
       "      <td>0.00</td>\n",
       "      <td>38.86</td>\n",
       "    </tr>\n",
       "    <tr>\n",
       "      <th>5</th>\n",
       "      <td>0</td>\n",
       "      <td>0.00</td>\n",
       "      <td>38.86</td>\n",
       "    </tr>\n",
       "  </tbody>\n",
       "</table>\n",
       "</div>"
      ],
      "text/plain": [
       "    frequency  recency      T\n",
       "ID                           \n",
       "1           2    30.43  38.86\n",
       "2           1     1.71  38.86\n",
       "3           0     0.00  38.86\n",
       "4           0     0.00  38.86\n",
       "5           0     0.00  38.86"
      ]
     },
     "execution_count": 14,
     "metadata": {},
     "output_type": "execute_result"
    }
   ],
   "source": [
    "from lifetimes.datasets import load_cdnow\n",
    "from lifetimes import BetaGeoFitter\n",
    "\n",
    "data = load_cdnow(index_col=[0])\n",
    "\n",
    "data.head()"
   ]
  },
  {
   "cell_type": "markdown",
   "metadata": {},
   "source": [
    "These are all customer-level statistics:\n",
    "\n",
    "- frequency: number of repeat purchases\n",
    "- T: \"age\" of the customer (units since first purchase)\n",
    "- recency: age at time of last purchase\n",
    "\n",
    "The `lifetimes.BetaGeoFitter` model has a scikit-learn-like API to estimate several parameters and has several utility methods."
   ]
  },
  {
   "cell_type": "code",
   "execution_count": 15,
   "metadata": {},
   "outputs": [],
   "source": [
    "# similar API to scikit-learn and lifelines.\n",
    "bgf = BetaGeoFitter(penalizer_coef=0.0)\n",
    "bgf.fit(data['frequency'], data['recency'], data['T']);"
   ]
  },
  {
   "cell_type": "code",
   "execution_count": 16,
   "metadata": {
    "collapsed": true
   },
   "outputs": [],
   "source": [
    "plt.style.use('default')"
   ]
  },
  {
   "cell_type": "code",
   "execution_count": 17,
   "metadata": {},
   "outputs": [],
   "source": [
    "from lifetimes.plotting import plot_probability_alive_matrix\n",
    "plt.figure(figsize=(12, 10))\n",
    "plot_probability_alive_matrix(bgf, cmap='viridis');"
   ]
  },
  {
   "cell_type": "markdown",
   "metadata": {},
   "source": [
    "[Apparently](http://mktg.uni-svishtov.bg/ivm/resources/Counting_Your_Customers.pdf), we can calculate the expected number of purchases over the next $t$ periods with\n",
    "\n",
    "\\begin{align*}\n",
    "    E\\left(X(t) \\vert \\lambda, p\\right) &= \\lambda t \\cdot P(\\tau > t) + \\int_0^t \\lambda \\tau g(\\tau \\vert \\lambda, p)  \\tau \\\\\n",
    "    &= \\frac{1}{p} - \\frac{1}{p} e^{-\\lambda pt}\n",
    "\\end{align*}\n",
    "\n",
    "With some fancy math and substitutions, the following calculation does that."
   ]
  },
  {
   "cell_type": "code",
   "execution_count": 56,
   "metadata": {},
   "outputs": [
    {
     "name": "stdout",
     "output_type": "stream",
     "text": [
      "0.242591618324 4.41346949264 0.792887908651 2.42573840216\n"
     ]
    }
   ],
   "source": [
    "from scipy import special\n",
    "\n",
    "r, α, a, b = bgf._unload_params('r', 'alpha', 'a', 'b')\n",
    "print(r, α, a, b)\n",
    "\n",
    "def conditional_n_purchases(t, frequency, recency, T):\n",
    "    x = frequency\n",
    "\n",
    "    hyp_term = special.hyp2f1(r + x, b + x, a + b + x - 1, t / (α + T + t))\n",
    "    first_term = (a + b + x - 1) / (a - 1)\n",
    "    second_term = (1 - hyp_term * ((α + T) / (α + t + T)) ** (r + x))\n",
    "    numerator = first_term * second_term\n",
    "\n",
    "    denominator = 1 + (x > 0) * (a / (b + x - 1)) * ((α + T) / (α + recency)) ** (r + x)\n",
    "\n",
    "    return numerator / denominator"
   ]
  },
  {
   "cell_type": "code",
   "execution_count": 57,
   "metadata": {},
   "outputs": [
    {
     "data": {
      "text/plain": [
       "0.18315735049765852"
      ]
     },
     "execution_count": 57,
     "metadata": {},
     "output_type": "execute_result"
    }
   ],
   "source": [
    "conditional_n_purchases(t=5, frequency=2, recency=30.43, T=38.86)"
   ]
  },
  {
   "cell_type": "markdown",
   "metadata": {},
   "source": [
    "Originally, `lifetimes`' documentation had code similar to the following:"
   ]
  },
  {
   "cell_type": "code",
   "execution_count": 58,
   "metadata": {},
   "outputs": [
    {
     "data": {
      "text/plain": [
       "ID\n",
       "1       0.183157\n",
       "2       0.029758\n",
       "3       0.027552\n",
       "4       0.027552\n",
       "5       0.027552\n",
       "          ...   \n",
       "2353    0.037717\n",
       "2354    0.665433\n",
       "2355    0.037717\n",
       "2356    0.559680\n",
       "2357    0.037717\n",
       "dtype: float64"
      ]
     },
     "execution_count": 58,
     "metadata": {},
     "output_type": "execute_result"
    }
   ],
   "source": [
    "data.apply(lambda row: conditional_n_purchases(5,\n",
    "                                               row['frequency'],\n",
    "                                               row['recency'],\n",
    "                                               row['T']),\n",
    "           axis=1)"
   ]
  },
  {
   "cell_type": "markdown",
   "metadata": {},
   "source": [
    "Notice that's doing a `.apply(..., axis=1)`. Let's time it"
   ]
  },
  {
   "cell_type": "code",
   "execution_count": 59,
   "metadata": {},
   "outputs": [
    {
     "name": "stdout",
     "output_type": "stream",
     "text": [
      "10 loops, best of 3: 124 ms per loop\n"
     ]
    }
   ],
   "source": [
    "%%timeit\n",
    "t = 5\n",
    "# Using .apply(λ row:, axis=1)\n",
    "data.apply(lambda row: conditional_n_purchases(5,\n",
    "                                               row['frequency'],\n",
    "                                               row['recency'],\n",
    "                                               row['T']),\n",
    "           axis=1)"
   ]
  },
  {
   "cell_type": "markdown",
   "metadata": {},
   "source": [
    "You almost never want to use `.apply` with axis=1. `.apply` It's probably doing way more work that you actually want, including:\n",
    "\n",
    "- A bunch of type inference\n",
    "- Some \"helpful\" reductions of output shape\n",
    "- Is essentially a for loop internally\n",
    "\n",
    "If you *have* to use an interative solution (instead of vectorized), use `.itertuples` which returns an iterator of `namedtuples`."
   ]
  },
  {
   "cell_type": "code",
   "execution_count": 60,
   "metadata": {},
   "outputs": [
    {
     "data": {
      "text/plain": [
       "Pandas(Index=1, frequency=2, recency=30.43, T=38.859999999999999)"
      ]
     },
     "execution_count": 60,
     "metadata": {},
     "output_type": "execute_result"
    }
   ],
   "source": [
    "next(data.itertuples())"
   ]
  },
  {
   "cell_type": "code",
   "execution_count": 61,
   "metadata": {},
   "outputs": [
    {
     "name": "stdout",
     "output_type": "stream",
     "text": [
      "10 loops, best of 3: 27.6 ms per loop\n"
     ]
    }
   ],
   "source": [
    "%%timeit\n",
    "t = 5\n",
    "pd.Series([\n",
    "    conditional_n_purchases(5, row.frequency, row.recency, row.T)\n",
    "    for row in data.itertuples()\n",
    "])"
   ]
  },
  {
   "cell_type": "markdown",
   "metadata": {},
   "source": [
    "But, our solution is alread vectorized thanks to NumPy and SciPy:"
   ]
  },
  {
   "cell_type": "code",
   "execution_count": 62,
   "metadata": {},
   "outputs": [
    {
     "name": "stdout",
     "output_type": "stream",
     "text": [
      "100 loops, best of 3: 3.25 ms per loop\n"
     ]
    }
   ],
   "source": [
    "%%timeit\n",
    "t = 5\n",
    "# Using vectorization\n",
    "conditional_n_purchases(5, data['frequency'], data['recency'], data['T'])"
   ]
  },
  {
   "cell_type": "markdown",
   "metadata": {},
   "source": [
    "It's quite natural to say \"I have this complicated function `f` to apply to each \n",
    "row, I'll just just use `.apply(f, axis=1)`\". Avoid that temptation."
   ]
  },
  {
   "cell_type": "markdown",
   "metadata": {},
   "source": [
    "## I/O"
   ]
  },
  {
   "cell_type": "markdown",
   "metadata": {},
   "source": [
    "This is a tricky subject to say too much about since so much else goes into the decision of what IO system to use\n",
    "\n",
    "- Do you \"own\" the data, or are you part of a larger system? Do you even have a choice?\n",
    "- Do you need compatability with other systems?\n",
    "- What types of data are you storing?"
   ]
  },
  {
   "cell_type": "markdown",
   "metadata": {},
   "source": [
    "That said, some general observations\n",
    "\n",
    "- `read_csv` is fast as far as CSV parsers go, but CSVs are *lossy* and inefficient\n",
    "- `to_csv` is pretty slow (unoptimized)\n",
    "- `to_sql` is *very* slow; most relational databases have dedicated methods for loading large volumes of data\n",
    "- `read_json` / `to_json` are both implemented in C and fast\n",
    "- `read_hdf` / `to_hdf` are both *very* fast thanks to `libhdf`, but are not threadsafe for reading or writing; The `format='table'` can perfectly represent a pandas DataFrame, but are not portable;\n",
    "- `feather` is very fast, portable, but young. Pandas is adding a `read_feather` / `to_feather` in 0.20\n",
    "- `parquet` support is coming along nicely in [fastparquet](http://fastparquet.readthedocs.io) and [pyarrow](https://github.com/apache/arrow/tree/master/python)"
   ]
  }
 ],
 "metadata": {
  "kernelspec": {
   "display_name": "Python 3",
   "language": "python",
   "name": "python3"
  },
  "language_info": {
   "codemirror_mode": {
    "name": "ipython",
    "version": 3
   },
   "file_extension": ".py",
   "mimetype": "text/x-python",
   "name": "python",
   "nbconvert_exporter": "python",
   "pygments_lexer": "ipython3",
   "version": "3.6.1"
  }
 },
 "nbformat": 4,
 "nbformat_minor": 1
}
